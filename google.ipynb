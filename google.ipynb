{
  "nbformat": 4,
  "nbformat_minor": 0,
  "metadata": {
    "kernelspec": {
      "display_name": "Python 3",
      "language": "python",
      "name": "python3"
    },
    "language_info": {
      "codemirror_mode": {
        "name": "ipython",
        "version": 3
      },
      "file_extension": ".py",
      "mimetype": "text/x-python",
      "name": "python",
      "nbconvert_exporter": "python",
      "pygments_lexer": "ipython3",
      "version": "3.7.4"
    },
    "colab": {
      "name": "google.ipynb",
      "provenance": [],
      "include_colab_link": true
    },
    "accelerator": "GPU"
  },
  "cells": [
    {
      "cell_type": "markdown",
      "metadata": {
        "id": "view-in-github",
        "colab_type": "text"
      },
      "source": [
        "<a href=\"https://colab.research.google.com/github/howming/crawler/blob/main/google.ipynb\" target=\"_parent\"><img src=\"https://colab.research.google.com/assets/colab-badge.svg\" alt=\"Open In Colab\"/></a>"
      ]
    },
    {
      "cell_type": "code",
      "metadata": {
        "colab": {
          "base_uri": "https://localhost:8080/"
        },
        "id": "p74doNsGr2eG",
        "outputId": "3ec397de-8cb9-4133-f3b9-0e9f6e6f1cc0"
      },
      "source": [
        "from google.colab import drive\n",
        "drive.mount('drive')"
      ],
      "execution_count": null,
      "outputs": [
        {
          "output_type": "stream",
          "text": [
            "Drive already mounted at drive; to attempt to forcibly remount, call drive.mount(\"drive\", force_remount=True).\n"
          ],
          "name": "stdout"
        }
      ]
    },
    {
      "cell_type": "code",
      "metadata": {
        "id": "hk_PNZbbrX_x"
      },
      "source": [
        "import requests\n",
        "url = \"https://www.google.com/search?ei=Z3KJXYefGIK0mAX-vp64CQ&yv=3&q=standing&tbm=isch&vet=10ahUKEwjH7qivqOjkAhUCGqYKHX6fB5cQuT0ISigB.Z3KJXYefGIK0mAX-vp64CQ.i&ved=0ahUKEwjH7qivqOjkAhUCGqYKHX6fB5cQuT0ISigB&ijn=1&start=100&asearch=ichunk&async=_id:rg_s,_pms:s,_jsfs:Ffpdje,_fmt:pc\"\n",
        "h = {\n",
        "    \"accept-language\":\"zh-TW,zh;q=0.9,en-US;q=0.8,en;q=0.7\",\n",
        "    \"user-agent\":\"Mozilla/5.0 (Windows NT 10.0; Win64; x64) AppleWebKit/537.36 (KHTML, like Gecko) Chrome/76.0.3809.132 Safari/537.36\"\n",
        "}\n",
        "response = requests.get(url, headers=h)\n",
        "response.text"
      ],
      "execution_count": null,
      "outputs": []
    },
    {
      "cell_type": "code",
      "metadata": {
        "id": "Ka_jv6tkrX_3"
      },
      "source": [
        "from bs4 import BeautifulSoup\n",
        "import json\n",
        "html = BeautifulSoup(response.text)\n",
        "div = html.find(\"div\", class_=\"rg_meta\")\n",
        "print(\"盒子:\", div)\n",
        "print(\"網址:\", json.loads(div.text)[\"ou\"])"
      ],
      "execution_count": null,
      "outputs": []
    },
    {
      "cell_type": "code",
      "metadata": {
        "id": "xuvdXTjFrX_4"
      },
      "source": [
        "# 拿到每一頁每一張圖片網址\n",
        "import requests\n",
        "from bs4 import BeautifulSoup\n",
        "import json\n",
        "\n",
        "imgs_url = []\n",
        "page = 0\n",
        "while True:\n",
        "    # TODO: 看你要搜尋啥    \n",
        "    url = (\"https://www.google.com/search?ei=Z3KJXYefGIK0mAX-vp64CQ&yv=3&q=standing&tbm=isch&tbs=itp:photo&vet=10ahUKEwjH7qivqOjkAhUCGqYKHX6fB5cQuT0ISigB.Z3KJXYefGIK0mAX-vp64CQ.i&ved=0ahUKEwjH7qivqOjkAhUCGqYKHX6fB5cQuT0ISigB&ijn=\"\n",
        "            + str(page) + \"&start=\"\n",
        "            + str(page * 100) +\"&asearch=ichunk&async=_id:rg_s,_pms:s,_jsfs:Ffpdje,_fmt:pc\")\n",
        "    print(\"第幾頁:\", page + 1)\n",
        "    print(\"網址:\", url)\n",
        "    h = {\n",
        "        \"accept-language\":\"zh-TW,zh;q=0.9,en-US;q=0.8,en;q=0.7\",\n",
        "        \"user-agent\":\"Mozilla/5.0 (Windows NT 10.0; Win64; x64) AppleWebKit/537.36 (KHTML, like Gecko) Chrome/76.0.3809.132 Safari/537.36\"\n",
        "    }\n",
        "    response = requests.get(url, headers=h)\n",
        "    \n",
        "    html = BeautifulSoup(response.text)\n",
        "    divs = html.find_all(\"div\", class_=\"rg_meta\")\n",
        "    \n",
        "    if len(divs) == 0:\n",
        "        print(\"應該是最後一頁了\")\n",
        "        break\n",
        "    \n",
        "    print(\"這頁有幾張?\", len(divs))\n",
        "    for d in divs:\n",
        "        img = json.loads(d.text)[\"ou\"]\n",
        "        imgs_url.append(img)\n",
        "    page = page + 1"
      ],
      "execution_count": null,
      "outputs": []
    },
    {
      "cell_type": "code",
      "metadata": {
        "id": "ebsJnl7_rX_4"
      },
      "source": [
        "# 下載圖片\n",
        "import os\n",
        "import ssl\n",
        "ssl._create_default_https_context = ssl._create_unverified_context\n",
        "\n",
        "# TODO: save to\n",
        "base = \"drive/My Drive/202101142\"\n",
        "if not os.path.exists(base):\n",
        "    os.makedirs(base)\n",
        "saved = [\"jpg\", \"jpeg\", \"png\"]\n",
        "for i, iurl in enumerate(imgs_url):\n",
        "    for f in saved:\n",
        "        if f.upper() in iurl or f in iurl:\n",
        "            try:\n",
        "                h = {\n",
        "                    \"user-agent\":\"Mozilla/5.0 (Windows NT 10.0; Win64; x64) AppleWebKit/537.36 (KHTML, like Gecko) Chrome/76.0.3809.132 Safari/537.36\"\n",
        "                }\n",
        "                iresponse = requests.get(iurl, headers=h, stream=True, verify=False)\n",
        "                fn = os.path.join(base, str(i) + \".\" + f)\n",
        "                with open(fn, \"wb\") as f:\n",
        "                    # .read: .raw是一個檔案, 使用read去讀取\n",
        "                    f.write(iresponse.raw.read())\n",
        "            except:\n",
        "                print(\"放棄:\", iurl)"
      ],
      "execution_count": null,
      "outputs": []
    }
  ]
}